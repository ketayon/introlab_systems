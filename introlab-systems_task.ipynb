{
 "cells": [
  {
   "cell_type": "code",
   "execution_count": 22,
   "metadata": {},
   "outputs": [],
   "source": [
    "import pandas as pd\n",
    "cldr = pd.read_csv('CLDR.csv')\n",
    "open_prices = cldr['Close']\n",
    "close_prices = cldr['Adj Close']\n",
    "three_day_prices = []\n",
    "\n",
    "for (index, cldr['Close']) in open_prices.items():\n",
    "    corrected_index = index - 3\n",
    "    if corrected_index < 0:\n",
    "        three_day_prices.append('---')\n",
    "    else:\n",
    "        open_price = open_prices[corrected_index]\n",
    "        close_price = close_prices[corrected_index]\n",
    "        relative_price = open_price / close_price\n",
    "        three_day_prices.append(relative_price)\n",
    "        \n",
    "#for (index, price) in open_prices.items():\n",
    "#    print('Open price:', price)\n",
    "#    print('Close price:', close_prices[index])\n",
    "#    print('3-days prices:', three_day_prices[index])\n",
    "cldr.insert(7, '3day_before_change', three_day_prices)\n",
    "cldr.to_csv('Cloudera.csv')"
   ]
  },
  {
   "cell_type": "code",
   "execution_count": 13,
   "metadata": {},
   "outputs": [],
   "source": [
    "import pandas as pd\n",
    "docu = pd.read_csv('DOCU.csv')\n",
    "open_prices = docu['Close']\n",
    "close_prices = docu['Adj Close']\n",
    "three_day_prices = []\n",
    "\n",
    "for (index, docu['Close']) in open_prices.items():\n",
    "    corrected_index = index - 3\n",
    "    if corrected_index < 0:\n",
    "        three_day_prices.append('---')\n",
    "    else:\n",
    "        open_price = open_prices[corrected_index]\n",
    "        close_price = close_prices[corrected_index]\n",
    "        relative_price = open_price / close_price\n",
    "        three_day_prices.append(relative_price)\n",
    "        \n",
    "docu.insert(7, '3day_before_change', three_day_prices)\n",
    "docu.to_csv('DocuSign.csv')"
   ]
  },
  {
   "cell_type": "code",
   "execution_count": 14,
   "metadata": {},
   "outputs": [],
   "source": [
    "import pandas as pd\n",
    "pd = pd.read_csv('PD.csv')\n",
    "open_prices = pd['Close']\n",
    "close_prices = pd['Adj Close']\n",
    "three_day_prices = []\n",
    "\n",
    "for (index, pd['Close']) in open_prices.items():\n",
    "    corrected_index = index - 3\n",
    "    if corrected_index < 0:\n",
    "        three_day_prices.append('---')\n",
    "    else:\n",
    "        open_price = open_prices[corrected_index]\n",
    "        close_price = close_prices[corrected_index]\n",
    "        relative_price = open_price / close_price\n",
    "        three_day_prices.append(relative_price)\n",
    "        \n",
    "pd.insert(7, '3day_before_change', three_day_prices)\n",
    "pd.to_csv('PagerDuty.csv')"
   ]
  },
  {
   "cell_type": "code",
   "execution_count": 15,
   "metadata": {},
   "outputs": [],
   "source": [
    "import pandas as pd\n",
    "pins = pd.read_csv('PINS.csv')\n",
    "open_prices = pins['Close']\n",
    "close_prices = pins['Adj Close']\n",
    "three_day_prices = []\n",
    "\n",
    "for (index, pins['Close']) in open_prices.items():\n",
    "    corrected_index = index - 3\n",
    "    if corrected_index < 0:\n",
    "        three_day_prices.append('---')\n",
    "    else:\n",
    "        open_price = open_prices[corrected_index]\n",
    "        close_price = close_prices[corrected_index]\n",
    "        relative_price = open_price / close_price\n",
    "        three_day_prices.append(relative_price)\n",
    "        \n",
    "pins.insert(7, '3day_before_change', three_day_prices)\n",
    "pins.to_csv('Pinterest.csv')"
   ]
  },
  {
   "cell_type": "code",
   "execution_count": 17,
   "metadata": {},
   "outputs": [],
   "source": [
    "import pandas as pd\n",
    "run = pd.read_csv('RUN.csv')\n",
    "open_prices = run['Close']\n",
    "close_prices = run['Adj Close']\n",
    "three_day_prices = []\n",
    "\n",
    "for (index, run['Close']) in open_prices.items():\n",
    "    corrected_index = index - 3\n",
    "    if corrected_index < 0:\n",
    "        three_day_prices.append('---')\n",
    "    else:\n",
    "        open_price = open_prices[corrected_index]\n",
    "        close_price = close_prices[corrected_index]\n",
    "        relative_price = open_price / close_price\n",
    "        three_day_prices.append(relative_price)\n",
    "        \n",
    "run.insert(7, '3day_before_change', three_day_prices)\n",
    "run.to_csv('Sunrun.csv')"
   ]
  },
  {
   "cell_type": "code",
   "execution_count": 19,
   "metadata": {},
   "outputs": [],
   "source": [
    "import pandas as pd\n",
    "zm = pd.read_csv('ZM.csv')\n",
    "open_prices = zm['Close']\n",
    "close_prices = zm['Adj Close']\n",
    "three_day_prices = []\n",
    "\n",
    "for (index, zm['Close']) in open_prices.items():\n",
    "    corrected_index = index - 3\n",
    "    if corrected_index < 0:\n",
    "        three_day_prices.append('---')\n",
    "    else:\n",
    "        open_price = open_prices[corrected_index]\n",
    "        close_price = close_prices[corrected_index]\n",
    "        relative_price = open_price / close_price\n",
    "        three_day_prices.append(relative_price)\n",
    "        \n",
    "zm.insert(7, '3day_before_change', three_day_prices)\n",
    "zm.to_csv('Zoom.csv')"
   ]
  },
  {
   "cell_type": "code",
   "execution_count": 20,
   "metadata": {},
   "outputs": [],
   "source": [
    "import pandas as pd\n",
    "zuo = pd.read_csv('ZUO.csv')\n",
    "open_prices = zuo['Close']\n",
    "close_prices = zuo['Adj Close']\n",
    "three_day_prices = []\n",
    "\n",
    "for (index, zuo['Close']) in open_prices.items():\n",
    "    corrected_index = index - 3\n",
    "    if corrected_index < 0:\n",
    "        three_day_prices.append('---')\n",
    "    else:\n",
    "        open_price = open_prices[corrected_index]\n",
    "        close_price = close_prices[corrected_index]\n",
    "        relative_price = open_price / close_price\n",
    "        three_day_prices.append(relative_price)\n",
    "        \n",
    "zuo.insert(7, '3day_before_change', three_day_prices)\n",
    "zuo.to_csv('Zuora.csv')"
   ]
  },
  {
   "cell_type": "code",
   "execution_count": null,
   "metadata": {},
   "outputs": [],
   "source": []
  }
 ],
 "metadata": {
  "kernelspec": {
   "display_name": "Python 3",
   "language": "python",
   "name": "python3"
  },
  "language_info": {
   "codemirror_mode": {
    "name": "ipython",
    "version": 3
   },
   "file_extension": ".py",
   "mimetype": "text/x-python",
   "name": "python",
   "nbconvert_exporter": "python",
   "pygments_lexer": "ipython3",
   "version": "3.8.2"
  }
 },
 "nbformat": 4,
 "nbformat_minor": 4
}
